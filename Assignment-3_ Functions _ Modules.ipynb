{
 "cells": [
  {
   "cell_type": "code",
   "execution_count": 64,
   "id": "aef6c2f8",
   "metadata": {},
   "outputs": [
    {
     "name": "stdout",
     "output_type": "stream",
     "text": [
      "10\n",
      "73\n"
     ]
    }
   ],
   "source": [
    "# Write a Python function to sum all the numbers in a list.\n",
    "\n",
    "def list(num):\n",
    "    x = 0\n",
    "    for i in num:\n",
    "        x += i\n",
    "    return x\n",
    "\n",
    "\n",
    "\n",
    "print(list((1,2,3,4)))\n",
    "print(list((7,10,50,6)))"
   ]
  },
  {
   "cell_type": "code",
   "execution_count": 63,
   "id": "dfa74f8a",
   "metadata": {},
   "outputs": [
    {
     "name": "stdout",
     "output_type": "stream",
     "text": [
      "The original string is : Learning python is easy \n",
      "The reversed string is :  ysae si nohtyp gninraeL\n"
     ]
    }
   ],
   "source": [
    "#2--- Function to reverse a string\n",
    "\n",
    "\n",
    "\n",
    "def reverse(string):\n",
    "    string = string[::-1]\n",
    "    return string\n",
    "\n",
    "\n",
    "\n",
    "print(\"The original string is : \", end=\"\")\n",
    "print(string)\n",
    "\n",
    "print(\"The reversed string is : \", end=\"\")\n",
    "print(reverse(string))\n",
    "\n",
    "string=\"Learning python is easy \"\n",
    "\n"
   ]
  },
  {
   "cell_type": "code",
   "execution_count": 61,
   "id": "6fdfe4f9",
   "metadata": {},
   "outputs": [
    {
     "name": "stdout",
     "output_type": "stream",
     "text": [
      "The upppercase count : 3 The lowercase count : 20\n",
      "The upppercase count : 4 The lowercase count : 20\n",
      "The upppercase count : 5 The lowercase count : 20\n",
      "The upppercase count : 4 The lowercase count : 23\n"
     ]
    }
   ],
   "source": [
    "#3---Write a Python function that accepts a string and calculate the number of upper case letters and lower case letters.\n",
    "\n",
    "def count_upper_lower(string):\n",
    "    lowercase_letter_count = 0\n",
    "    uppercase_letter_count = 0\n",
    "\n",
    "    for letter in string:\n",
    "        if letter.isupper():\n",
    "            uppercase_letter_count += 1\n",
    "        elif letter.islower():\n",
    "            lowercase_letter_count += 1\n",
    "\n",
    "    print (\"The upppercase count :\" ,uppercase_letter_count,\"The lowercase count :\", lowercase_letter_count)\n",
    "\n",
    "\n",
    "count_upper_lower(\"Python is very easy To Learn\")\n",
    "count_upper_lower(\"Python Is Dynamically Typed\")\n",
    "count_upper_lower(\"Python Is Free and Open-Source\")\n",
    "count_upper_lower(\"Python Is Interpreted Language\")"
   ]
  },
  {
   "cell_type": "code",
   "execution_count": null,
   "id": "e88f467b",
   "metadata": {},
   "outputs": [],
   "source": []
  }
 ],
 "metadata": {
  "kernelspec": {
   "display_name": "Python 3 (ipykernel)",
   "language": "python",
   "name": "python3"
  },
  "language_info": {
   "codemirror_mode": {
    "name": "ipython",
    "version": 3
   },
   "file_extension": ".py",
   "mimetype": "text/x-python",
   "name": "python",
   "nbconvert_exporter": "python",
   "pygments_lexer": "ipython3",
   "version": "3.10.5"
  }
 },
 "nbformat": 4,
 "nbformat_minor": 5
}
